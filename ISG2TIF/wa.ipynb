{
 "cells": [
  {
   "cell_type": "code",
   "execution_count": null,
   "metadata": {},
   "outputs": [],
   "source": [
    "from ISG2TIF.zutilsISG import isg2tif_f1, isg2tif_f2\n",
    "from glob import glob\n",
    "import os"
   ]
  },
  {
   "cell_type": "markdown",
   "metadata": {},
   "source": [
    "software matlab to help conversion to geotif \n",
    "= https://www.isgeoid.polimi.it/Software/software.html"
   ]
  },
  {
   "cell_type": "code",
   "execution_count": 8,
   "metadata": {},
   "outputs": [],
   "source": [
    "isg_fpath = r\"c:\\Users\\Joseph\\Downloads\\Topo_DEM_Mekong_delta_excl_rivers_and_bedrock\\igs\\Brazil_2015_MAPGEO2015_gravG_20201222.isg\"\n",
    "tif_fpath = isg_fpath.replace('.isg','_A.tif')\n",
    "#isg2tif(input_file=isg_fpath,output_file=tif_fpath)"
   ]
  },
  {
   "cell_type": "code",
   "execution_count": 13,
   "metadata": {},
   "outputs": [
    {
     "name": "stdout",
     "output_type": "stream",
     "text": [
      "4 num of files\n"
     ]
    },
    {
     "data": {
      "text/plain": [
       "['Africa_2019_AFRGEOID2019_gravG_20210625.isg.txt',\n",
       " 'AGP2007_20160415.isg.txt',\n",
       " 'ALASKA_GEOID96_20160414.isg.txt',\n",
       " 'USGG2003a_20161106.isg.txt']"
      ]
     },
     "execution_count": 13,
     "metadata": {},
     "output_type": "execute_result"
    }
   ],
   "source": [
    "idpath = r\"c:\\Users\\Joseph\\Downloads\\Topo_DEM_Mekong_delta_excl_rivers_and_bedrock\\igs\"\n",
    "odpath = r\"c:\\Users\\Joseph\\Downloads\\Topo_DEM_Mekong_delta_excl_rivers_and_bedrock\\tif\"\n",
    "\n",
    "idpath = r\"C:\\Users\\Joseph\\Downloads\\Topo_DEM_Mekong_delta_excl_rivers_and_bedrock\\DEPLOY\\ISG\"\n",
    "odpath = r\"C:\\Users\\Joseph\\Downloads\\Topo_DEM_Mekong_delta_excl_rivers_and_bedrock\\DEPLOY\\TIF\"\n",
    "os.makedirs(odpath, exist_ok=True)\n",
    "print(f\"{len(os.listdir(idpath))} num of files\")\n",
    "os.listdir(idpath)"
   ]
  },
  {
   "cell_type": "code",
   "execution_count": 14,
   "metadata": {},
   "outputs": [
    {
     "name": "stdout",
     "output_type": "stream",
     "text": [
      "(301, 293)\n",
      "Failled!\n",
      "C:\\Users\\Joseph\\Downloads\\Topo_DEM_Mekong_delta_excl_rivers_and_bedrock\\DEPLOY\\ISG\\Africa_2019_AFRGEOID2019_gravG_20210625.isg.txt\n",
      "(877, 829)\n",
      "isg2tif_f1 write to C:\\Users\\Joseph\\Downloads\\Topo_DEM_Mekong_delta_excl_rivers_and_bedrock\\DEPLOY\\TIF\\AGP2007_20160415.tif\n",
      "(691, 931)\n",
      "isg2tif_f1 write to C:\\Users\\Joseph\\Downloads\\Topo_DEM_Mekong_delta_excl_rivers_and_bedrock\\DEPLOY\\TIF\\ALASKA_GEOID96_20160414.tif\n",
      "Failled!\n",
      "C:\\Users\\Joseph\\Downloads\\Topo_DEM_Mekong_delta_excl_rivers_and_bedrock\\DEPLOY\\ISG\\USGG2003a_20161106.isg.txt\n"
     ]
    }
   ],
   "source": [
    "failed_list = []\n",
    "end1 = '.isg'\n",
    "end2 = '.isg.txt'\n",
    "ifiles = glob(f\"{idpath}\\\\*\")\n",
    "for fi in ifiles:\n",
    "   # print(fi)\n",
    "    bn = os.path.basename(fi)\n",
    "    if bn.endswith(end1):\n",
    "        bn2 = bn.replace(end1, '.tif')\n",
    "    elif bn.endswith(end2):\n",
    "        bn2 = bn.replace(end2, '.tif')\n",
    "    fo = os.path.join(odpath, bn2)\n",
    "    #print(fo)\n",
    "    try:\n",
    "        isg2tif_f2(input_file=fi,output_file=fo)\n",
    "    except:\n",
    "        try:\n",
    "            isg2tif_f1(isg_fpath=fi,output_file=fo)\n",
    "        except:\n",
    "            \n",
    "            print('Failled!')\n",
    "            print(fi)\n",
    "            failed_list.append(fi)\n",
    "        \n"
   ]
  },
  {
   "cell_type": "code",
   "execution_count": 15,
   "metadata": {},
   "outputs": [],
   "source": [
    "# get data from Diangti, and keep improving the code to account for other cases too \n",
    "# study the code from matlab"
   ]
  },
  {
   "cell_type": "code",
   "execution_count": 16,
   "metadata": {},
   "outputs": [
    {
     "data": {
      "text/plain": [
       "['C:\\\\Users\\\\Joseph\\\\Downloads\\\\Topo_DEM_Mekong_delta_excl_rivers_and_bedrock\\\\DEPLOY\\\\ISG\\\\Africa_2019_AFRGEOID2019_gravG_20210625.isg.txt',\n",
       " 'C:\\\\Users\\\\Joseph\\\\Downloads\\\\Topo_DEM_Mekong_delta_excl_rivers_and_bedrock\\\\DEPLOY\\\\ISG\\\\USGG2003a_20161106.isg.txt']"
      ]
     },
     "execution_count": 16,
     "metadata": {},
     "output_type": "execute_result"
    }
   ],
   "source": [
    "failed_list"
   ]
  },
  {
   "cell_type": "code",
   "execution_count": null,
   "metadata": {},
   "outputs": [],
   "source": [
    "import numpy as np\n",
    "import rasterio\n",
    "from rasterio.transform import from_origin\n",
    "\n",
    "# Step 1: Parse the metadata\n",
    "metadata = {\n",
    "    'ISG format': '1.01',\n",
    "    'delta lat': '0.083333330000',\n",
    "    'delta lon': '0.083333330000',\n",
    "    'lat max': '24.041666665324',\n",
    "    'lat min': '7.958333331676',\n",
    "    'lon max': '110.041666665314',\n",
    "    'lon min': '101.958333331686',\n",
    "    'model name': 'GEOID_FFT',\n",
    "    'model type': 'gravimetric',\n",
    "    'ncols': '97',\n",
    "    'nodata': '-9999.0000',\n",
    "    'nrows': '193',\n",
    "    'reference': 'WGS84',\n",
    "    'units': 'meters'\n",
    "}\n",
    "\n",
    "# Step 2: Extract key parameters\n",
    "delta_lat = float(metadata['delta lat'])  # Resolution in latitude (decimal degrees)\n",
    "delta_lon = float(metadata['delta lon'])  # Resolution in longitude (decimal degrees)\n",
    "lat_min = float(metadata['lat min'])      # Minimum latitude (decimal degrees)\n",
    "lat_max = float(metadata['lat max'])      # Maximum latitude (decimal degrees)\n",
    "lon_min = float(metadata['lon min'])      # Minimum longitude (decimal degrees)\n",
    "lon_max = float(metadata['lon max'])      # Maximum longitude (decimal degrees)\n",
    "nrows = int(metadata['nrows'])            # Number of rows\n",
    "ncols = int(metadata['ncols'])            # Number of columns\n",
    "nodata = float(metadata['nodata'])        # No-data value\n",
    "crs = \"EPSG:4326\"                         # CRS for WGS84\n",
    "\n",
    "# Step 3: Define the affine transformation\n",
    "transform = rasterio.transform.from_origin(\n",
    "    west=lon_min,\n",
    "    north=lat_max,\n",
    "    xsize=delta_lon,\n",
    "    ysize=delta_lat\n",
    ")\n",
    "\n",
    "# Step 4: Prepare the data array (example array with random values)\n",
    "data_array = np.random.rand(nrows, ncols)  # Replace with your actual data array\n",
    "\n",
    "# Step 5: Write the raster file\n",
    "output_file = \"output_raster_v2.tif\"\n",
    "with rasterio.open(\n",
    "    output_file,\n",
    "    'w',\n",
    "    driver='GTiff',\n",
    "    height=nrows,\n",
    "    width=ncols,\n",
    "    count=1,  # Single band\n",
    "    dtype=data_array.dtype,\n",
    "    crs=crs,\n",
    "    transform=transform,\n",
    "    nodata=nodata\n",
    ") as dst:\n",
    "    dst.write(data_array, 1)\n",
    "\n",
    "print(f\"Raster file saved as {output_file}\")"
   ]
  }
 ],
 "metadata": {
  "kernelspec": {
   "display_name": "pkga",
   "language": "python",
   "name": "python3"
  },
  "language_info": {
   "codemirror_mode": {
    "name": "ipython",
    "version": 3
   },
   "file_extension": ".py",
   "mimetype": "text/x-python",
   "name": "python",
   "nbconvert_exporter": "python",
   "pygments_lexer": "ipython3",
   "version": "3.13.2"
  }
 },
 "nbformat": 4,
 "nbformat_minor": 2
}
