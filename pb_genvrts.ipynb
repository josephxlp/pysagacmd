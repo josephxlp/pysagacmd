{
 "cells": [
  {
   "cell_type": "code",
   "execution_count": 1,
   "metadata": {},
   "outputs": [],
   "source": [
    "import os \n",
    "import glob \n",
    "from uvars import ot_dpath, proccesed_dpath, raw_dpath\n",
    "from uvars import tilenames, varnames\n",
    "\n",
    "def filelist2txt(files, vname):\n",
    "    with open(vname, \"w\") as f:\n",
    "        for file in files:\n",
    "            f.write(file + \"\\n\")\n",
    "\n",
    "def build_vrt(files,txt_fpath, vrt_fpath):\n",
    "    filelist2txt(files, txt_fpath)\n",
    "    cmd = \"gdalbuildvrt -input_file_list {} {}\".format(txt_fpath, vrt_fpath)\n",
    "    os.system(cmd)\n",
    "\n",
    "os.makedirs(proccesed_dpath, exist_ok=True)\n",
    "os.makedirs(raw_dpath, exist_ok=True)"
   ]
  },
  {
   "cell_type": "code",
   "execution_count": 2,
   "metadata": {},
   "outputs": [
    {
     "name": "stdout",
     "output_type": "stream",
     "text": [
      "AW3D30\n",
      "AW3D30_E\n",
      "COP30\n",
      "EU_DTM\n",
      "GEBCOIceTopo\n",
      "GEBCOSubIceTopo\n",
      "GEDI_L3\n",
      "NASADEM\n",
      "SRTM15Plus\n",
      "SRTMGL1\n",
      "SRTMGL1_E\n"
     ]
    }
   ],
   "source": [
    "for vname in varnames:\n",
    "    print(vname)\n",
    "    dirpath = r\"{}\\*\\{}\\{}*tif\".format(ot_dpath,vname, vname)\n",
    "    files = glob.glob(dirpath)\n",
    "    vrt_fpath = os.path.join(proccesed_dpath, \"{}.vrt\".format(vname))\n",
    "    txt_fpath = os.path.join(raw_dpath, \"{}.txt\".format(vname))\n",
    "    build_vrt(files,txt_fpath, vrt_fpath)"
   ]
  },
  {
   "cell_type": "code",
   "execution_count": null,
   "metadata": {},
   "outputs": [],
   "source": []
  },
  {
   "cell_type": "code",
   "execution_count": 7,
   "metadata": {},
   "outputs": [],
   "source": [
    "tilenames = os.listdir(ot_dpath)"
   ]
  },
  {
   "cell_type": "code",
   "execution_count": 8,
   "metadata": {},
   "outputs": [],
   "source": [
    "varnames = os.listdir(r'{}\\{}'.format(ot_dpath, tilenames[0]))"
   ]
  },
  {
   "cell_type": "code",
   "execution_count": 9,
   "metadata": {},
   "outputs": [
    {
     "data": {
      "text/plain": [
       "['AW3D30',\n",
       " 'AW3D30_E',\n",
       " 'COP30',\n",
       " 'EU_DTM',\n",
       " 'GEBCOIceTopo',\n",
       " 'GEBCOSubIceTopo',\n",
       " 'GEDI_L3',\n",
       " 'NASADEM',\n",
       " 'SRTM15Plus',\n",
       " 'SRTMGL1',\n",
       " 'SRTMGL1_E']"
      ]
     },
     "execution_count": 9,
     "metadata": {},
     "output_type": "execute_result"
    }
   ],
   "source": [
    "varnames"
   ]
  },
  {
   "cell_type": "code",
   "execution_count": null,
   "metadata": {},
   "outputs": [],
   "source": []
  }
 ],
 "metadata": {
  "kernelspec": {
   "display_name": "pkga",
   "language": "python",
   "name": "python3"
  },
  "language_info": {
   "codemirror_mode": {
    "name": "ipython",
    "version": 3
   },
   "file_extension": ".py",
   "mimetype": "text/x-python",
   "name": "python",
   "nbconvert_exporter": "python",
   "pygments_lexer": "ipython3",
   "version": "3.13.2"
  }
 },
 "nbformat": 4,
 "nbformat_minor": 2
}
