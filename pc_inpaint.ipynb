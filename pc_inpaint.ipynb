{
 "cells": [
  {
   "cell_type": "code",
   "execution_count": 1,
   "metadata": {},
   "outputs": [],
   "source": [
    "import os \n",
    "import pandas as pd \n",
    "from uvars import saga_cmd_path\n",
    "from sagainterp import  (saga_close_gaps, saga_close_gaps_with_spline,\n",
    "                         saga_close_one_cell_gaps,saga_close_gaps_with_resampling,\n",
    "                         saga_close_gaps_with_spline)"
   ]
  },
  {
   "cell_type": "code",
   "execution_count": null,
   "metadata": {},
   "outputs": [],
   "source": [
    "cop_txt = r\"data/raw/COP90.txt\"\n",
    "gedi_txt = r\"data/raw/GEDI_L3.txt\"\n",
    "\n",
    "vfill_dpath = r\"data/processed/vfill\"\n",
    "os.makedirs(vfill_dpath, exist_ok=True)\n",
    "copfiles = pd.read_csv(cop_txt, header=None).squeeze().tolist() \n",
    "gedifiles = pd.read_csv(gedi_txt, header=None).squeeze().tolist()"
   ]
  },
  {
   "cell_type": "code",
   "execution_count": 3,
   "metadata": {},
   "outputs": [
    {
     "name": "stdout",
     "output_type": "stream",
     "text": [
      "Output file 'data/processed/vfill\\GEDI_L3_saga_close_gaps.tif' already exists and overwrite is disabled. Skipping execution.\n"
     ]
    }
   ],
   "source": [
    "fname = 'saga_close_gaps'\n",
    "input_grid=gedifiles[0]\n",
    "output_grid = os.path.join(vfill_dpath, r'GEDI_L3_{}.tif'.format(fname))\n",
    "saga_close_gaps(\n",
    "        saga_cmd_path=saga_cmd_path, \n",
    "        input_grid=input_grid, \n",
    "        mask_grid=None, \n",
    "        output_grid=output_grid, \n",
    "        tension_threshold=0.1, \n",
    "        overwrite=False)"
   ]
  },
  {
   "cell_type": "code",
   "execution_count": 4,
   "metadata": {},
   "outputs": [
    {
     "name": "stdout",
     "output_type": "stream",
     "text": [
      "Output file 'data/processed/vfill\\GEDI_L3_saga_close_gaps_with_spline.tif' already exists and overwrite is disabled. Skipping execution.\n"
     ]
    }
   ],
   "source": [
    "\n",
    "fname = 'saga_close_gaps_with_spline'\n",
    "input_grid=gedifiles[0]\n",
    "output_grid = os.path.join(vfill_dpath, r'GEDI_L3_{}.tif'.format(fname))\n",
    "\n",
    "saga_close_gaps_with_spline(\n",
    "    saga_cmd_path=saga_cmd_path,\n",
    "    input_grid=input_grid,\n",
    "    mask_grid=None,\n",
    "    output_grid=output_grid,\n",
    "    max_gap_cells=0,\n",
    "    max_points=1000,\n",
    "    local_points=20,\n",
    "    extended_neighbourhood=False,\n",
    "    neighbours=\"Neumann\",\n",
    "    radius=0,\n",
    "    relaxation=0.0,\n",
    "    overwrite=False\n",
    ")"
   ]
  },
  {
   "cell_type": "code",
   "execution_count": null,
   "metadata": {},
   "outputs": [],
   "source": [
    "\n",
    "fname = 'saga_close_gaps_with_resampling'\n",
    "input_grid=gedifiles[0]\n",
    "output_grid = os.path.join(vfill_dpath, r'GEDI_L3_{}.tif'.format(fname))\n",
    "\n",
    "saga_close_gaps_with_resampling(\n",
    "    saga_cmd_path=saga_cmd_path,\n",
    "    input_grid=input_grid,\n",
    "    mask_grid=None,\n",
    "    output_grid=output_grid,\n",
    "    resampling=\"B-Spline Interpolation\",\n",
    "    grow_factor=2.0,\n",
    "    overwrite=False\n",
    ")"
   ]
  },
  {
   "cell_type": "code",
   "execution_count": null,
   "metadata": {},
   "outputs": [],
   "source": [
    "fname = 'saga_close_one_cell_gaps'\n",
    "input_grid=gedifiles[0]\n",
    "output_grid = os.path.join(vfill_dpath, r'GEDI_L3_{}.tif'.format(fname))\n",
    "\n",
    "saga_close_one_cell_gaps(\n",
    "    saga_cmd_path=saga_cmd_path,\n",
    "    input_grid=input_grid,\n",
    "    output_grid=output_grid,\n",
    "    neighbourhood=\"Moore\",\n",
    "    method=\"arithmetic mean\",\n",
    "    overwrite=False\n",
    ")"
   ]
  },
  {
   "cell_type": "code",
   "execution_count": null,
   "metadata": {},
   "outputs": [],
   "source": []
  },
  {
   "cell_type": "code",
   "execution_count": null,
   "metadata": {},
   "outputs": [],
   "source": []
  }
 ],
 "metadata": {
  "kernelspec": {
   "display_name": "pkga",
   "language": "python",
   "name": "python3"
  },
  "language_info": {
   "codemirror_mode": {
    "name": "ipython",
    "version": 3
   },
   "file_extension": ".py",
   "mimetype": "text/x-python",
   "name": "python",
   "nbconvert_exporter": "python",
   "pygments_lexer": "ipython3",
   "version": "3.13.2"
  }
 },
 "nbformat": 4,
 "nbformat_minor": 2
}
